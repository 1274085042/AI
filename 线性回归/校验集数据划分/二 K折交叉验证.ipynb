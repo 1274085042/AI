{
 "cells": [
  {
   "cell_type": "code",
   "execution_count": 16,
   "metadata": {},
   "outputs": [],
   "source": [
    "import numpy as np\n",
    "from sklearn.model_selection import StratifiedKFold"
   ]
  },
  {
   "cell_type": "code",
   "execution_count": 17,
   "metadata": {},
   "outputs": [
    {
     "data": {
      "text/plain": [
       "2"
      ]
     },
     "execution_count": 17,
     "metadata": {},
     "output_type": "execute_result"
    }
   ],
   "source": [
    "X=np.array([[1,2],[2,4],[1,3],[3,4]])\n",
    "y=np.array([0,0,1,1])\n",
    "skf=StratifiedKFold(n_splits=2)\n",
    "skf.get_n_splits(X,y)"
   ]
  },
  {
   "cell_type": "code",
   "execution_count": 21,
   "metadata": {},
   "outputs": [
    {
     "name": "stdout",
     "output_type": "stream",
     "text": [
      "\n",
      " train:\n",
      " [[2 4]\n",
      " [3 4]] \n",
      " [0 1]\n",
      "test:\n",
      " [[1 2]\n",
      " [1 3]] \n",
      " [0 1] \n",
      "\n",
      "\n",
      " train:\n",
      " [[1 2]\n",
      " [1 3]] \n",
      " [0 1]\n",
      "test:\n",
      " [[2 4]\n",
      " [3 4]] \n",
      " [0 1] \n",
      "\n"
     ]
    }
   ],
   "source": [
    "for train_index,test_index in skf.split(X,y):\n",
    "    print(\"\\n train:\\n\",X[train_index],'\\n',y[train_index])\n",
    "    print(\"test:\\n\",X[test_index],'\\n',y[test_index],'\\n')"
   ]
  },
  {
   "cell_type": "code",
   "execution_count": null,
   "metadata": {},
   "outputs": [],
   "source": []
  }
 ],
 "metadata": {
  "kernelspec": {
   "display_name": "Python 3",
   "language": "python",
   "name": "python3"
  },
  "language_info": {
   "codemirror_mode": {
    "name": "ipython",
    "version": 3
   },
   "file_extension": ".py",
   "mimetype": "text/x-python",
   "name": "python",
   "nbconvert_exporter": "python",
   "pygments_lexer": "ipython3",
   "version": "3.7.4"
  }
 },
 "nbformat": 4,
 "nbformat_minor": 4
}
